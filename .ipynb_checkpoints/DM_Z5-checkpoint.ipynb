{
 "cells": [
  {
   "cell_type": "code",
   "execution_count": 51,
   "id": "4c9bd0f0",
   "metadata": {},
   "outputs": [],
   "source": [
    "with open(\"HariPota\", encoding=\"UTF-8\") as f:\n",
    "    words = [word for line in f for word in line.split()]"
   ]
  },
  {
   "cell_type": "code",
   "execution_count": 52,
   "id": "b7d2e009",
   "metadata": {},
   "outputs": [],
   "source": [
    "with open(\"stopwords\", encoding=\"UTF-8\") as stopwordsFile:\n",
    "    stopwords = [word for line in stopwordsFile for word in line.split()]"
   ]
  },
  {
   "cell_type": "code",
   "execution_count": 53,
   "id": "7cf226cc",
   "metadata": {},
   "outputs": [],
   "source": [
    "from string import punctuation\n",
    "words = [word.lower().translate(str.maketrans('', '', punctuation)) for word in words ]\n",
    "filtered_words = [w for w in words if not w in stopwords]\n",
    "filtered_words = [w for w in filtered_words if w != '']"
   ]
  },
  {
   "cell_type": "code",
   "execution_count": 54,
   "id": "84c3549a",
   "metadata": {},
   "outputs": [
    {
     "name": "stdout",
     "output_type": "stream",
     "text": [
      "Requirement already satisfied: stemming in c:\\users\\adamacc\\anaconda3\\lib\\site-packages (1.0.1)\n"
     ]
    }
   ],
   "source": [
    "import sys\n",
    "!{sys.executable} -m pip install stemming"
   ]
  },
  {
   "cell_type": "code",
   "execution_count": 55,
   "id": "86c86ca7",
   "metadata": {},
   "outputs": [],
   "source": [
    "from stemming.porter2 import stem\n",
    "filtered_words = [stem(word) for word in filtered_words]"
   ]
  },
  {
   "cell_type": "code",
   "execution_count": 57,
   "id": "9dd83cc7",
   "metadata": {},
   "outputs": [],
   "source": [
    "wordsDict = dict()\n",
    "\n",
    "for word in filtered_words:\n",
    "    if word in wordsDict:\n",
    "        wordsDict[word] += 1\n",
    "    else:\n",
    "        wordsDict[word] = 1"
   ]
  },
  {
   "cell_type": "code",
   "execution_count": 58,
   "id": "733ff32b",
   "metadata": {},
   "outputs": [],
   "source": [
    "wordsCount = [(key, item) for key, item in wordsDict.items()]"
   ]
  },
  {
   "cell_type": "code",
   "execution_count": 61,
   "id": "6c9ccb48",
   "metadata": {},
   "outputs": [],
   "source": [
    "wordsCount.sort(key = lambda item: item[1], reverse = True)"
   ]
  },
  {
   "cell_type": "code",
   "execution_count": 67,
   "id": "7c760e4e",
   "metadata": {},
   "outputs": [],
   "source": [
    "with open(\"words.csv\", \"w\") as f:\n",
    "    f.write(\"\\n\".join([f\"{count};{word};\" for (word, count) in wordsCount]))"
   ]
  },
  {
   "cell_type": "code",
   "execution_count": null,
   "id": "5d247f8a",
   "metadata": {},
   "outputs": [],
   "source": []
  }
 ],
 "metadata": {
  "kernelspec": {
   "display_name": "Python 3 (ipykernel)",
   "language": "python",
   "name": "python3"
  },
  "language_info": {
   "codemirror_mode": {
    "name": "ipython",
    "version": 3
   },
   "file_extension": ".py",
   "mimetype": "text/x-python",
   "name": "python",
   "nbconvert_exporter": "python",
   "pygments_lexer": "ipython3",
   "version": "3.11.5"
  }
 },
 "nbformat": 4,
 "nbformat_minor": 5
}
